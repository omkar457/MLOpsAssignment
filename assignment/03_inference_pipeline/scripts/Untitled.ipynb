{
 "cells": [
  {
   "cell_type": "code",
   "execution_count": 1,
   "id": "08ef4995-1352-4a37-8e8d-84b95a2bf6d7",
   "metadata": {},
   "outputs": [],
   "source": [
    "\n",
    "import mlflow\n",
    "import mlflow.sklearn\n",
    "import pandas as pd\n",
    "\n",
    "import sqlite3\n",
    "from sqlite3 import Error\n",
    "\n",
    "import os\n",
    "import logging\n",
    "\n",
    "from datetime import datetime\n",
    "\n",
    "from constants import *\n",
    "\n",
    "import importlib\n",
    "import importlib.util"
   ]
  },
  {
   "cell_type": "code",
   "execution_count": 2,
   "id": "96971fb2-3078-46eb-98fc-3fd840dc4407",
   "metadata": {},
   "outputs": [],
   "source": [
    "\n",
    "db_file_path = DB_PATH + DB_FILE_NAME\n",
    "db_conn = None\n",
    "\n",
    "mlflow.set_tracking_uri(TRACKING_URI)"
   ]
  },
  {
   "cell_type": "code",
   "execution_count": 3,
   "id": "0749a472-d542-4ea1-bd80-b3bee5d5db48",
   "metadata": {},
   "outputs": [],
   "source": [
    "model = mlflow.sklearn.load_model(model_uri=f\"models:/{MODEL_NAME}/{STAGE}\")"
   ]
  },
  {
   "cell_type": "code",
   "execution_count": null,
   "id": "ef7f6ca2-b99f-49f6-bb49-f78220e57e63",
   "metadata": {},
   "outputs": [],
   "source": [
    "?mlflow.sklearn.save_model"
   ]
  },
  {
   "cell_type": "code",
   "execution_count": null,
   "id": "e37e074a-ca27-4812-a924-de70da28cc00",
   "metadata": {},
   "outputs": [],
   "source": [
    "model.predict({'A':'hello'})"
   ]
  },
  {
   "cell_type": "code",
   "execution_count": null,
   "id": "6332dd45-a57c-4d19-bf2d-30886f348025",
   "metadata": {},
   "outputs": [],
   "source": [
    "model.get_params()"
   ]
  },
  {
   "cell_type": "code",
   "execution_count": 4,
   "id": "e72cf001-1dcf-4e1a-81cf-6fd6bec22a6f",
   "metadata": {},
   "outputs": [
    {
     "data": {
      "text/plain": [
       "array([1133,  492,  247,  187,  182,  153,  138,  169,   95,  204],\n",
       "      dtype=int32)"
      ]
     },
     "execution_count": 4,
     "metadata": {},
     "output_type": "execute_result"
    }
   ],
   "source": [
    "model.feature_importances_"
   ]
  },
  {
   "cell_type": "code",
   "execution_count": null,
   "id": "ec4b5d0d-7195-4e97-a1df-4d51c38ffd41",
   "metadata": {},
   "outputs": [],
   "source": []
  }
 ],
 "metadata": {
  "kernelspec": {
   "display_name": "Python 3 (ipykernel)",
   "language": "python",
   "name": "python3"
  },
  "language_info": {
   "codemirror_mode": {
    "name": "ipython",
    "version": 3
   },
   "file_extension": ".py",
   "mimetype": "text/x-python",
   "name": "python",
   "nbconvert_exporter": "python",
   "pygments_lexer": "ipython3",
   "version": "3.8.12"
  }
 },
 "nbformat": 4,
 "nbformat_minor": 5
}
