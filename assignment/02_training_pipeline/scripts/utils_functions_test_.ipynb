{
 "cells": [
  {
   "cell_type": "code",
   "execution_count": 1,
   "id": "239138f6-a9fa-45a0-b838-a5e7725c2b61",
   "metadata": {},
   "outputs": [],
   "source": [
    "from constants import *\n",
    "from utils import *"
   ]
  },
  {
   "cell_type": "code",
   "execution_count": 2,
   "id": "a9477855-f908-4f9e-9bc1-03e4234744b4",
   "metadata": {},
   "outputs": [
    {
     "name": "stdout",
     "output_type": "stream",
     "text": [
      "Working with MLFlow DB: /home/Databases/Lead_scoring_mlflow_production.db\n",
      "MLFLOW DB Already Exists at /home/Databases/Lead_scoring_mlflow_production.db\n",
      "/home/assignment/02_training_pipeline/scripts\n",
      "Reading the cleaned data from the database /home/Databases/lead_scoring_data_cleaning.db\n",
      "Reading Complete!\n"
     ]
    }
   ],
   "source": [
    "encode_features()"
   ]
  },
  {
   "cell_type": "code",
   "execution_count": 3,
   "id": "9c8ebd60-b62a-4c2a-ab24-56da2c123d1c",
   "metadata": {},
   "outputs": [
    {
     "name": "stdout",
     "output_type": "stream",
     "text": [
      "Reading the features and target from the database /home/Databases/lead_scoring_data_cleaning.db\n"
     ]
    },
    {
     "name": "stderr",
     "output_type": "stream",
     "text": [
      "Registered model 'LightGBM' already exists. Creating a new version of this model...\n",
      "2024/02/07 03:25:26 INFO mlflow.tracking._model_registry.client: Waiting up to 300 seconds for model version to finish creation.                     Model name: LightGBM, version 3\n",
      "Created version '3' of model 'LightGBM'.\n",
      "/opt/conda/lib/python3.8/site-packages/sklearn/utils/validation.py:72: DataConversionWarning: A column-vector y was passed when a 1d array was expected. Please change the shape of y to (n_samples, ), for example using ravel().\n",
      "  return f(**kwargs)\n"
     ]
    },
    {
     "name": "stdout",
     "output_type": "stream",
     "text": [
      "Inside MLflow Run with id 79537cb55cbc40e0b15534bdd2cc2c56\n"
     ]
    }
   ],
   "source": [
    "get_trained_model()"
   ]
  },
  {
   "cell_type": "code",
   "execution_count": null,
   "id": "d10e135e-9e91-434a-b672-feaeaf6280bf",
   "metadata": {},
   "outputs": [],
   "source": []
  },
  {
   "cell_type": "code",
   "execution_count": null,
   "id": "e526d71e-4a5f-4cb2-ac1f-7bbe316ac228",
   "metadata": {},
   "outputs": [],
   "source": []
  },
  {
   "cell_type": "code",
   "execution_count": null,
   "id": "57716f1f-33dc-4d86-883a-7649e7fc17a9",
   "metadata": {},
   "outputs": [],
   "source": []
  },
  {
   "cell_type": "code",
   "execution_count": null,
   "id": "45aff95e-a635-4f3d-a5b3-f366843d516e",
   "metadata": {},
   "outputs": [],
   "source": []
  },
  {
   "cell_type": "code",
   "execution_count": 2,
   "id": "51532abe-b93a-47d7-8aa2-1cddb98e502b",
   "metadata": {},
   "outputs": [],
   "source": [
    "\n",
    "import pandas as pd\n",
    "import numpy as np\n",
    "\n",
    "import sqlite3\n",
    "from sqlite3 import Error\n",
    "\n",
    "import mlflow\n",
    "import mlflow.sklearn\n",
    "\n",
    "from sklearn.model_selection import train_test_split\n",
    "from sklearn.metrics import roc_auc_score\n",
    "import lightgbm as lgb\n",
    "from sklearn.model_selection import train_test_split\n",
    "from sklearn.metrics import accuracy_score\n",
    "\n",
    "#from Lead_scoring_training_pipeline.constants import *\n",
    "\n",
    "from constants import *"
   ]
  },
  {
   "cell_type": "code",
   "execution_count": null,
   "id": "44991989-0a86-43ad-a4e4-fe5682678366",
   "metadata": {},
   "outputs": [],
   "source": [
    "db_file_path = DB_PATH + DB_FILE_NAME    \n",
    "db_conn = None    "
   ]
  },
  {
   "cell_type": "code",
   "execution_count": null,
   "id": "6789a54c-319d-4d74-b9de-c54c9c49c2b2",
   "metadata": {},
   "outputs": [],
   "source": [
    "print(f\"Reading the cleaned data from the database {db_file_path}\")\n",
    "db_conn = sqlite3.connect(db_file_path)\n",
    "cleaned_data = pd.read_sql('SELECT * FROM model_input', con=db_conn)\n",
    "db_conn.close()\n",
    "db_conn = None\n"
   ]
  },
  {
   "cell_type": "code",
   "execution_count": null,
   "id": "8864e82b-473f-4b5a-b275-1385f9e164a9",
   "metadata": {},
   "outputs": [],
   "source": [
    "data = cleaned_data.copy()"
   ]
  },
  {
   "cell_type": "code",
   "execution_count": null,
   "id": "e8f59dfd-ee9a-4223-841a-dadc1e84f725",
   "metadata": {},
   "outputs": [],
   "source": [
    "data.head()"
   ]
  },
  {
   "cell_type": "code",
   "execution_count": null,
   "id": "f102d72f-e95d-448c-a760-c336b0620385",
   "metadata": {},
   "outputs": [],
   "source": [
    "ONE_HOT_ENCODED_FEATURES"
   ]
  },
  {
   "cell_type": "code",
   "execution_count": null,
   "id": "60a2212c-a94d-4388-a449-dbaf670e9fb4",
   "metadata": {},
   "outputs": [],
   "source": [
    "FEATURES_TO_ENCODE"
   ]
  },
  {
   "cell_type": "code",
   "execution_count": null,
   "id": "c3fd6d23-1fd2-4f8a-a7db-dfa5b709262d",
   "metadata": {},
   "outputs": [],
   "source": []
  },
  {
   "cell_type": "code",
   "execution_count": null,
   "id": "6b93f5ba-68d5-4378-afbe-d41c38b6e8ff",
   "metadata": {},
   "outputs": [],
   "source": [
    "for f in FEATURES_TO_ENCODE:\n",
    "    if(f in data.columns):\n",
    "        encoded = pd.get_dummies(data[f])\n",
    "        encoded = encoded.add_prefix(f + '_')\n",
    "        data = pd.concat([data, encoded], axis=1)\n",
    "    else:\n",
    "        print('Feature not found')\n"
   ]
  },
  {
   "cell_type": "code",
   "execution_count": null,
   "id": "3ed10e72-87e9-43a2-a937-7a855ca7eb75",
   "metadata": {},
   "outputs": [],
   "source": [
    "print(data.columns)"
   ]
  },
  {
   "cell_type": "code",
   "execution_count": null,
   "id": "b3648a96-3fe9-48f4-ad6c-cf4ccf08bedb",
   "metadata": {},
   "outputs": [],
   "source": [
    "data.drop(columns=FEATURES_TO_ENCODE, inplace = True)"
   ]
  },
  {
   "cell_type": "code",
   "execution_count": null,
   "id": "610873a2-08c5-403e-b66d-d0ed04eb38cc",
   "metadata": {},
   "outputs": [],
   "source": [
    "data[ONE_HOT_ENCODED_FEATURES]"
   ]
  },
  {
   "cell_type": "code",
   "execution_count": null,
   "id": "87ad2c0a-5e9e-4ede-bf08-43b64f985506",
   "metadata": {},
   "outputs": [],
   "source": [
    "data_subset = data[ONE_HOT_ENCODED_FEATURES]"
   ]
  },
  {
   "cell_type": "code",
   "execution_count": null,
   "id": "9c3cf929-570c-4ff4-83ea-1135f2bfc52e",
   "metadata": {},
   "outputs": [],
   "source": [
    "target_column = data_subset.pop('app_complete_flag')\n",
    "data_subset"
   ]
  },
  {
   "cell_type": "code",
   "execution_count": null,
   "id": "7f125594-1160-4a96-b548-f584113f66a3",
   "metadata": {},
   "outputs": [],
   "source": [
    "target_column.head()"
   ]
  },
  {
   "cell_type": "code",
   "execution_count": null,
   "id": "0e538db9-c97c-46d2-a67e-159eaa46dcdd",
   "metadata": {},
   "outputs": [],
   "source": [
    "data_subset.head()"
   ]
  },
  {
   "cell_type": "code",
   "execution_count": null,
   "id": "f7b0a01b-681d-4d60-8750-c6a970d5c7ed",
   "metadata": {},
   "outputs": [],
   "source": [
    "############# -------------------------------"
   ]
  },
  {
   "cell_type": "code",
   "execution_count": 3,
   "id": "437d67a1-8c5e-4d6d-8f31-dd8e4855ea09",
   "metadata": {},
   "outputs": [],
   "source": [
    "\n",
    "db_file_path = DB_PATH + DB_FILE_NAME\n",
    "db_conn = None"
   ]
  },
  {
   "cell_type": "code",
   "execution_count": 4,
   "id": "7e87402e-46c3-4e76-8c49-7a482e01c082",
   "metadata": {},
   "outputs": [
    {
     "name": "stdout",
     "output_type": "stream",
     "text": [
      "Reading the training_features and training_target from the database /home/airflow/dags/Lead_scoring_data_pipeline/lead_scoring_data_cleaning.db\n"
     ]
    }
   ],
   "source": [
    "print(f\"Reading the training_features and training_target from the database {db_file_path}\")\n",
    "db_conn = sqlite3.connect(db_file_path)\n",
    "\n",
    "features = pd.read_sql('SELECT * FROM training_features', con=db_conn)\n",
    "target_col = pd.read_sql('SELECT * FROM training_target', con=db_conn)\n",
    "\n",
    "db_conn.close()\n",
    "db_conn = None\n",
    "\n",
    "X_train, X_test, y_train, y_test = train_test_split(features, target_col, test_size = 0.3, random_state=42)\n",
    "\n",
    "#mlflow.set_tracking_uri(TRACKING_URI)"
   ]
  },
  {
   "cell_type": "code",
   "execution_count": null,
   "id": "83e917e5-c079-4ea7-841e-22a8f546cbc7",
   "metadata": {},
   "outputs": [],
   "source": [
    "features.head()"
   ]
  },
  {
   "cell_type": "code",
   "execution_count": 5,
   "id": "bf93a474-eccd-4bc1-91b0-2d881a06ffea",
   "metadata": {},
   "outputs": [],
   "source": [
    "mlflow.set_tracking_uri(TRACKING_URI)"
   ]
  },
  {
   "cell_type": "code",
   "execution_count": null,
   "id": "745dec0b-e896-4710-a461-85a284ef787b",
   "metadata": {},
   "outputs": [],
   "source": []
  },
  {
   "cell_type": "code",
   "execution_count": 6,
   "id": "2a1d7633-55da-4d02-a6ec-92e46b4902c5",
   "metadata": {},
   "outputs": [
    {
     "data": {
      "text/plain": [
       "LGBMClassifier(device='gpu', random_state=42)"
      ]
     },
     "execution_count": 6,
     "metadata": {},
     "output_type": "execute_result"
    }
   ],
   "source": [
    "lightgbm_model = lgb.LGBMClassifier()\n",
    "lightgbm_model.set_params(**model_config)                   # model_config from Constants.py"
   ]
  },
  {
   "cell_type": "code",
   "execution_count": 8,
   "id": "9a3e7c36-5a2a-4bd2-9fdf-67ff6c114065",
   "metadata": {},
   "outputs": [
    {
     "name": "stderr",
     "output_type": "stream",
     "text": [
      "/opt/conda/lib/python3.8/site-packages/sklearn/utils/validation.py:72: DataConversionWarning: A column-vector y was passed when a 1d array was expected. Please change the shape of y to (n_samples, ), for example using ravel().\n",
      "  return f(**kwargs)\n"
     ]
    }
   ],
   "source": [
    "with mlflow.start_run(run_name=\"run_LGBMClassifier_Without_HPTune\") as run:\n",
    "    lightgbm_model.fit(X_train, y_train)\n",
    "\n",
    "    y_pred = lightgbm_model.predict(X_test)\n",
    "\n",
    "    acc=accuracy_score(y_pred, y_test)\n",
    "    mlflow.log_metric(\"test_accuracy\", acc)\n",
    "\n",
    "    auc = roc_auc_score(y_pred, y_test)\n",
    "    mlflow.log_metric(\"auc\", auc)"
   ]
  },
  {
   "cell_type": "code",
   "execution_count": 10,
   "id": "88cfb587-4b6b-4304-a544-1fc89d1988f6",
   "metadata": {},
   "outputs": [
    {
     "name": "stderr",
     "output_type": "stream",
     "text": [
      "Registered model 'LightGBM' already exists. Creating a new version of this model...\n",
      "2024/02/06 18:06:06 INFO mlflow.tracking._model_registry.client: Waiting up to 300 seconds for model version to finish creation.                     Model name: LightGBM, version 4\n",
      "Created version '4' of model 'LightGBM'.\n"
     ]
    }
   ],
   "source": [
    "model_info = mlflow.sklearn.log_model(sk_model=lightgbm_model, artifact_path='models', registered_model_name='LightGBM')"
   ]
  },
  {
   "cell_type": "code",
   "execution_count": 9,
   "id": "9290612c-0fc1-43b8-b774-58e0c4670764",
   "metadata": {},
   "outputs": [
    {
     "ename": "TypeError",
     "evalue": "save_model() got an unexpected keyword argument 'registered_model_name'",
     "output_type": "error",
     "traceback": [
      "\u001b[0;31m---------------------------------------------------------------------------\u001b[0m",
      "\u001b[0;31mTypeError\u001b[0m                                 Traceback (most recent call last)",
      "Input \u001b[0;32mIn [9]\u001b[0m, in \u001b[0;36m<module>\u001b[0;34m\u001b[0m\n\u001b[0;32m----> 1\u001b[0m \u001b[43mmlflow\u001b[49m\u001b[38;5;241;43m.\u001b[39;49m\u001b[43msklearn\u001b[49m\u001b[38;5;241;43m.\u001b[39;49m\u001b[43msave_model\u001b[49m\u001b[43m(\u001b[49m\u001b[43mlightgbm_model\u001b[49m\u001b[43m,\u001b[49m\u001b[43m \u001b[49m\u001b[43mregistered_model_name\u001b[49m\u001b[38;5;241;43m=\u001b[39;49m\u001b[38;5;124;43m'\u001b[39;49m\u001b[38;5;124;43mLightGBM\u001b[39;49m\u001b[38;5;124;43m'\u001b[39;49m\u001b[43m)\u001b[49m\n",
      "\u001b[0;31mTypeError\u001b[0m: save_model() got an unexpected keyword argument 'registered_model_name'"
     ]
    }
   ],
   "source": [
    "mlflow.sklearn.save_model(lightgbm_model, registered_model_name='LightGBM')"
   ]
  },
  {
   "cell_type": "code",
   "execution_count": 14,
   "id": "c44b78c5-ca6d-419c-bab3-33d6b72d081a",
   "metadata": {},
   "outputs": [],
   "source": [
    "mlflow.sklearn.save_model(lightgbm_model, model_info.model_uri)"
   ]
  },
  {
   "cell_type": "code",
   "execution_count": 12,
   "id": "36355a0a-de23-48fc-94d7-ed42158462a8",
   "metadata": {},
   "outputs": [
    {
     "data": {
      "text/plain": [
       "'runs:/a39d84fd474843e98fd885881e692175/models'"
      ]
     },
     "execution_count": 12,
     "metadata": {},
     "output_type": "execute_result"
    }
   ],
   "source": [
    "model_info.model_uri"
   ]
  },
  {
   "cell_type": "code",
   "execution_count": 16,
   "id": "5e4a6096-33dc-45bb-9686-8708bb7d93f8",
   "metadata": {},
   "outputs": [
    {
     "ename": "MlflowException",
     "evalue": "Path 'runs:/a39d84fd474843e98fd885881e692175/models' already exists and is not empty",
     "output_type": "error",
     "traceback": [
      "\u001b[0;31m---------------------------------------------------------------------------\u001b[0m",
      "\u001b[0;31mMlflowException\u001b[0m                           Traceback (most recent call last)",
      "Input \u001b[0;32mIn [16]\u001b[0m, in \u001b[0;36m<module>\u001b[0;34m\u001b[0m\n\u001b[0;32m----> 1\u001b[0m \u001b[43mmlflow\u001b[49m\u001b[38;5;241;43m.\u001b[39;49m\u001b[43msklearn\u001b[49m\u001b[38;5;241;43m.\u001b[39;49m\u001b[43msave_model\u001b[49m\u001b[43m(\u001b[49m\u001b[43msk_model\u001b[49m\u001b[38;5;241;43m=\u001b[39;49m\u001b[43mlightgbm_model\u001b[49m\u001b[43m,\u001b[49m\u001b[43m \u001b[49m\u001b[43mpath\u001b[49m\u001b[38;5;241;43m=\u001b[39;49m\u001b[43mmodel_info\u001b[49m\u001b[38;5;241;43m.\u001b[39;49m\u001b[43mmodel_uri\u001b[49m\u001b[43m)\u001b[49m\n",
      "File \u001b[0;32m/opt/conda/lib/python3.8/site-packages/mlflow/sklearn/__init__.py:238\u001b[0m, in \u001b[0;36msave_model\u001b[0;34m(sk_model, path, conda_env, code_paths, mlflow_model, serialization_format, signature, input_example, pip_requirements, extra_pip_requirements)\u001b[0m\n\u001b[1;32m    226\u001b[0m \u001b[38;5;28;01mif\u001b[39;00m serialization_format \u001b[38;5;129;01mnot\u001b[39;00m \u001b[38;5;129;01min\u001b[39;00m SUPPORTED_SERIALIZATION_FORMATS:\n\u001b[1;32m    227\u001b[0m     \u001b[38;5;28;01mraise\u001b[39;00m MlflowException(\n\u001b[1;32m    228\u001b[0m         message\u001b[38;5;241m=\u001b[39m(\n\u001b[1;32m    229\u001b[0m             \u001b[38;5;124m\"\u001b[39m\u001b[38;5;124mUnrecognized serialization format: \u001b[39m\u001b[38;5;132;01m{serialization_format}\u001b[39;00m\u001b[38;5;124m. Please specify one\u001b[39m\u001b[38;5;124m\"\u001b[39m\n\u001b[0;32m   (...)\u001b[0m\n\u001b[1;32m    235\u001b[0m         error_code\u001b[38;5;241m=\u001b[39mINVALID_PARAMETER_VALUE,\n\u001b[1;32m    236\u001b[0m     )\n\u001b[0;32m--> 238\u001b[0m \u001b[43m_validate_and_prepare_target_save_path\u001b[49m\u001b[43m(\u001b[49m\u001b[43mpath\u001b[49m\u001b[43m)\u001b[49m\n\u001b[1;32m    239\u001b[0m code_path_subdir \u001b[38;5;241m=\u001b[39m _validate_and_copy_code_paths(code_paths, path)\n\u001b[1;32m    241\u001b[0m \u001b[38;5;28;01mif\u001b[39;00m mlflow_model \u001b[38;5;129;01mis\u001b[39;00m \u001b[38;5;28;01mNone\u001b[39;00m:\n",
      "File \u001b[0;32m/opt/conda/lib/python3.8/site-packages/mlflow/utils/model_utils.py:125\u001b[0m, in \u001b[0;36m_validate_and_prepare_target_save_path\u001b[0;34m(path)\u001b[0m\n\u001b[1;32m    123\u001b[0m \u001b[38;5;28;01mdef\u001b[39;00m \u001b[38;5;21m_validate_and_prepare_target_save_path\u001b[39m(path):\n\u001b[1;32m    124\u001b[0m     \u001b[38;5;28;01mif\u001b[39;00m os\u001b[38;5;241m.\u001b[39mpath\u001b[38;5;241m.\u001b[39mexists(path) \u001b[38;5;129;01mand\u001b[39;00m \u001b[38;5;28many\u001b[39m(os\u001b[38;5;241m.\u001b[39mscandir(path)):\n\u001b[0;32m--> 125\u001b[0m         \u001b[38;5;28;01mraise\u001b[39;00m MlflowException(\n\u001b[1;32m    126\u001b[0m             message\u001b[38;5;241m=\u001b[39m\u001b[38;5;124m\"\u001b[39m\u001b[38;5;124mPath \u001b[39m\u001b[38;5;124m'\u001b[39m\u001b[38;5;132;01m{}\u001b[39;00m\u001b[38;5;124m'\u001b[39m\u001b[38;5;124m already exists and is not empty\u001b[39m\u001b[38;5;124m\"\u001b[39m\u001b[38;5;241m.\u001b[39mformat(path),\n\u001b[1;32m    127\u001b[0m             error_code\u001b[38;5;241m=\u001b[39mRESOURCE_ALREADY_EXISTS,\n\u001b[1;32m    128\u001b[0m         )\n\u001b[1;32m    130\u001b[0m     os\u001b[38;5;241m.\u001b[39mmakedirs(path, exist_ok\u001b[38;5;241m=\u001b[39m\u001b[38;5;28;01mTrue\u001b[39;00m)\n",
      "\u001b[0;31mMlflowException\u001b[0m: Path 'runs:/a39d84fd474843e98fd885881e692175/models' already exists and is not empty"
     ]
    }
   ],
   "source": [
    "mlflow.sklearn.save_model(sk_model=lightgbm_model, path=model_info.model_uri)"
   ]
  },
  {
   "cell_type": "code",
   "execution_count": 17,
   "id": "e5054368-cdca-4331-8f44-31c9c9662175",
   "metadata": {},
   "outputs": [],
   "source": [
    "mlflow.end_run()"
   ]
  },
  {
   "cell_type": "code",
   "execution_count": 18,
   "id": "4761496f-6fb7-486c-88c9-e30557c110a3",
   "metadata": {},
   "outputs": [
    {
     "ename": "NameError",
     "evalue": "name 'datetime' is not defined",
     "output_type": "error",
     "traceback": [
      "\u001b[0;31m---------------------------------------------------------------------------\u001b[0m",
      "\u001b[0;31mNameError\u001b[0m                                 Traceback (most recent call last)",
      "Input \u001b[0;32mIn [18]\u001b[0m, in \u001b[0;36m<module>\u001b[0;34m\u001b[0m\n\u001b[0;32m----> 1\u001b[0m \u001b[43mdatetime\u001b[49m\u001b[38;5;241m.\u001b[39mnow\n",
      "\u001b[0;31mNameError\u001b[0m: name 'datetime' is not defined"
     ]
    }
   ],
   "source": []
  },
  {
   "cell_type": "code",
   "execution_count": 20,
   "id": "def9c6f0-c3e7-4462-a05d-05dca25f1298",
   "metadata": {},
   "outputs": [],
   "source": [
    "k = pd.DataFrame(columns=['A'])\n",
    "k['A'] = (1,2,3,4,5,6,7,8)"
   ]
  },
  {
   "cell_type": "code",
   "execution_count": 25,
   "id": "672ec74d-cc75-411c-ad19-eeca99d91d9b",
   "metadata": {},
   "outputs": [
    {
     "data": {
      "text/plain": [
       "1"
      ]
     },
     "execution_count": 25,
     "metadata": {},
     "output_type": "execute_result"
    }
   ],
   "source": [
    "len(k[k.A == 1])"
   ]
  },
  {
   "cell_type": "code",
   "execution_count": null,
   "id": "b4468536-ac75-403a-b437-0d4308ce1e71",
   "metadata": {},
   "outputs": [],
   "source": []
  }
 ],
 "metadata": {
  "kernelspec": {
   "display_name": "Python 3 (ipykernel)",
   "language": "python",
   "name": "python3"
  },
  "language_info": {
   "codemirror_mode": {
    "name": "ipython",
    "version": 3
   },
   "file_extension": ".py",
   "mimetype": "text/x-python",
   "name": "python",
   "nbconvert_exporter": "python",
   "pygments_lexer": "ipython3",
   "version": "3.8.12"
  }
 },
 "nbformat": 4,
 "nbformat_minor": 5
}
