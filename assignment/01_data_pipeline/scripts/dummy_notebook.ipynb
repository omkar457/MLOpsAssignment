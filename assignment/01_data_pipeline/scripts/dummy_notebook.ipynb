{
 "cells": [
  {
   "cell_type": "code",
   "execution_count": 1,
   "id": "c5ba933f-9aca-45e0-be01-6b60a7256cd6",
   "metadata": {},
   "outputs": [],
   "source": [
    "from utils import *\n",
    "from data_validation_checks import *\n",
    "import warnings\n",
    "warnings.filterwarnings(\"ignore\")"
   ]
  },
  {
   "cell_type": "code",
   "execution_count": 2,
   "id": "6e95b9ef-78d0-42dd-ab09-ab7052af4a66",
   "metadata": {},
   "outputs": [
    {
     "name": "stdout",
     "output_type": "stream",
     "text": [
      "DB Already Exists\n",
      "/home/assignment/01_data_pipeline/scripts\n"
     ]
    },
    {
     "data": {
      "text/plain": [
       "'DB Exists'"
      ]
     },
     "execution_count": 2,
     "metadata": {},
     "output_type": "execute_result"
    }
   ],
   "source": [
    "build_dbs()"
   ]
  },
  {
   "cell_type": "code",
   "execution_count": 3,
   "id": "19c4be78-ddb8-4752-bc5b-73af14d87b3e",
   "metadata": {},
   "outputs": [
    {
     "name": "stdout",
     "output_type": "stream",
     "text": [
      "Raw data schema is in line with the schema present in schema.py\n"
     ]
    }
   ],
   "source": [
    "raw_data_schema_check()"
   ]
  },
  {
   "cell_type": "code",
   "execution_count": 4,
   "id": "5434676c-535f-4406-a995-7a8fa11c7866",
   "metadata": {},
   "outputs": [
    {
     "name": "stdout",
     "output_type": "stream",
     "text": [
      "Connected to the database and started loading the data from @/home/assignment/01_data_pipeline/notebooks/Data/leadscoring.csv\n",
      "Data Loaded\n"
     ]
    }
   ],
   "source": [
    "load_data_into_db()"
   ]
  },
  {
   "cell_type": "code",
   "execution_count": 5,
   "id": "0777d2ae-cf65-4682-b278-f91c824a8ff4",
   "metadata": {},
   "outputs": [
    {
     "name": "stdout",
     "output_type": "stream",
     "text": [
      "Loading the Maps data from /home/assignment/01_data_pipeline/notebooks/Maps/city_tier.py\n",
      "Read the data from the 'loaded_data' table in database file location: /home/assignment/01_data_pipeline/scripts/utils_output.db\n",
      "Update the data of the loaded_data with the city_tier details mapped as per the Details.\n",
      "Save the information as a new table city_tier_mapped in the database.\n"
     ]
    }
   ],
   "source": [
    "map_city_tier()"
   ]
  },
  {
   "cell_type": "code",
   "execution_count": 6,
   "id": "a7b1b278-9493-4b87-8d14-54e9f582e7cb",
   "metadata": {},
   "outputs": [
    {
     "name": "stdout",
     "output_type": "stream",
     "text": [
      "Read the data from the 'city_tier_mapped' table in database file location: /home/assignment/01_data_pipeline/scripts/utils_output.db\n",
      "Update the data of the city_tier_mapped with the 'first_platform_c', 'first_utm_medium_c' and 'first_utm_source_c' details mapped as per the Details.\n",
      "Save the information as a new table categorical_variables_mapped in the database.\n"
     ]
    }
   ],
   "source": [
    "map_categorical_vars()"
   ]
  },
  {
   "cell_type": "code",
   "execution_count": 7,
   "id": "331e3259-cba5-4592-9214-126b8817d0bb",
   "metadata": {},
   "outputs": [
    {
     "name": "stdout",
     "output_type": "stream",
     "text": [
      "Loading the Maps data from /home/assignment/01_data_pipeline/scripts/mapping/interaction_mapping.csv\n",
      "Read the data from the 'categorical_variables_mapped' table in database file location: /home/assignment/01_data_pipeline/scripts/utils_output.db\n",
      "Update the data of the categorical_variables_mapped with the interaction mapping data.\n",
      "Shape of the dataset: (238964, 13)\n",
      "Save the information as a new table model_input in the database.\n"
     ]
    }
   ],
   "source": [
    "interactions_mapping()"
   ]
  },
  {
   "cell_type": "code",
   "execution_count": 8,
   "id": "94759b5e-f30e-47b5-9c33-c7e0efbaa9f8",
   "metadata": {},
   "outputs": [
    {
     "name": "stdout",
     "output_type": "stream",
     "text": [
      "Models input schema is in line with the schema present in schema.py\n"
     ]
    }
   ],
   "source": [
    "model_input_schema_check()"
   ]
  }
 ],
 "metadata": {
  "kernelspec": {
   "display_name": "Python 3 (ipykernel)",
   "language": "python",
   "name": "python3"
  },
  "language_info": {
   "codemirror_mode": {
    "name": "ipython",
    "version": 3
   },
   "file_extension": ".py",
   "mimetype": "text/x-python",
   "name": "python",
   "nbconvert_exporter": "python",
   "pygments_lexer": "ipython3",
   "version": "3.8.12"
  }
 },
 "nbformat": 4,
 "nbformat_minor": 5
}
