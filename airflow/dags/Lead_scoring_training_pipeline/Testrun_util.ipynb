{
 "cells": [
  {
   "cell_type": "code",
   "execution_count": 1,
   "id": "4d34e53b-54e4-4f15-bd0e-aefa7dee2df1",
   "metadata": {},
   "outputs": [],
   "source": [
    "from constants import *\n",
    "from utils import *"
   ]
  },
  {
   "cell_type": "code",
   "execution_count": 2,
   "id": "3415edd5-94f1-431d-ae83-967bcf6053ec",
   "metadata": {},
   "outputs": [
    {
     "name": "stdout",
     "output_type": "stream",
     "text": [
      "Working with MLFlow DB: /home/airflow/dags/Lead_scoring_training_pipeline/Lead_scoring_mlflow_production.db\n",
      "Reading the cleaned data from the database /home/airflow/dags/Lead_scoring_data_pipeline/lead_scoring_data_cleaning.db\n",
      "Reading Complete!\n"
     ]
    }
   ],
   "source": [
    "encode_features()"
   ]
  },
  {
   "cell_type": "code",
   "execution_count": null,
   "id": "df654720-50be-4e08-998b-24bdf3d5ddfa",
   "metadata": {},
   "outputs": [],
   "source": []
  }
 ],
 "metadata": {
  "kernelspec": {
   "display_name": "Python 3 (ipykernel)",
   "language": "python",
   "name": "python3"
  },
  "language_info": {
   "codemirror_mode": {
    "name": "ipython",
    "version": 3
   },
   "file_extension": ".py",
   "mimetype": "text/x-python",
   "name": "python",
   "nbconvert_exporter": "python",
   "pygments_lexer": "ipython3",
   "version": "3.8.12"
  }
 },
 "nbformat": 4,
 "nbformat_minor": 5
}
